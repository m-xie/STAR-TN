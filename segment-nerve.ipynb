{
 "cells": [
  {
   "cell_type": "code",
   "execution_count": 1,
   "outputs": [],
   "source": [
    "import numpy as np\n",
    "import matplotlib.pyplot as plt\n",
    "\n",
    "from skimage import io\n",
    "from skimage.segmentation import flood_fill\n",
    "import cv2\n",
    "import startn_utils as utils"
   ],
   "metadata": {
    "collapsed": false,
    "ExecuteTime": {
     "end_time": "2023-10-13T07:11:15.332314Z",
     "start_time": "2023-10-13T07:11:05.684437Z"
    }
   }
  },
  {
   "cell_type": "code",
   "execution_count": 2,
   "outputs": [],
   "source": [
    "suppress_plots = True"
   ],
   "metadata": {
    "collapsed": false,
    "ExecuteTime": {
     "end_time": "2023-10-13T07:11:15.335599Z",
     "start_time": "2023-10-13T07:11:15.333353Z"
    }
   }
  },
  {
   "cell_type": "code",
   "execution_count": 3,
   "outputs": [],
   "source": [
    "#major controlling parameters\n",
    "tol_percent = 1\n",
    "upper_limit = 120\n",
    "area_percent = 3\n",
    "\n",
    "crop = 41\n",
    "crop_size = (np.floor(crop/2))\n",
    "crop_size = int(crop_size)"
   ],
   "metadata": {
    "collapsed": false,
    "ExecuteTime": {
     "end_time": "2023-10-13T07:11:15.342915Z",
     "start_time": "2023-10-13T07:11:15.336632Z"
    }
   }
  },
  {
   "cell_type": "code",
   "execution_count": 4,
   "outputs": [
    {
     "name": "stdout",
     "output_type": "stream",
     "text": [
      "(320, 320, 258)\n"
     ]
    }
   ],
   "source": [
    "# read data from tiff stack\n",
    "full_scan = np.transpose(io.imread('data/example.tiff'),[1,2,0])\n",
    "print(full_scan.shape)"
   ],
   "metadata": {
    "collapsed": false,
    "ExecuteTime": {
     "end_time": "2023-10-13T07:11:15.447572Z",
     "start_time": "2023-10-13T07:11:15.343981Z"
    }
   }
  },
  {
   "cell_type": "code",
   "execution_count": 5,
   "outputs": [],
   "source": [
    "centroid = np.array([137, 204, 155], dtype = np.uint16)"
   ],
   "metadata": {
    "collapsed": false,
    "ExecuteTime": {
     "end_time": "2023-10-13T07:11:15.452840Z",
     "start_time": "2023-10-13T07:11:15.451275Z"
    }
   }
  },
  {
   "cell_type": "code",
   "execution_count": 6,
   "outputs": [],
   "source": [
    "crop_scan_original = full_scan[centroid[0]-crop_size:centroid[0]+crop_size+1, centroid[1]-crop_size:centroid[1]+crop_size+1, centroid[2]-crop_size:centroid[2]+ crop_size+1]\n",
    "\n",
    "if not suppress_plots:\n",
    "    plt.imshow(crop_scan_original[:,20,:])"
   ],
   "metadata": {
    "collapsed": false,
    "ExecuteTime": {
     "end_time": "2023-10-13T07:11:15.463694Z",
     "start_time": "2023-10-13T07:11:15.454660Z"
    }
   }
  },
  {
   "cell_type": "code",
   "execution_count": 7,
   "outputs": [
    {
     "name": "stdout",
     "output_type": "stream",
     "text": [
      "[INFO] Maximum value is 986\n",
      "[INFO] New maximum value is 255\n"
     ]
    }
   ],
   "source": [
    "# saturate top 15% of values and normalize to 255\n",
    "print(f\"[INFO] Maximum value is {np.amax(crop_scan_original)}\")\n",
    "cutoff = (np.amax(crop_scan_original))*0.85\n",
    "#normalizing the value\n",
    "crop_scan_mask = crop_scan_original > cutoff #> 900\n",
    "crop_scan_original[crop_scan_mask] = cutoff #900\n",
    "scale_value = 255/(np.amax(crop_scan_original))\n",
    "crop_scan = np.array(scale_value*crop_scan_original, dtype = np.uint16)\n",
    "\n",
    "print(f\"[INFO] New maximum value is {np.amax(crop_scan)}\")\n",
    "if not suppress_plots:\n",
    "    plt.imshow(crop_scan[:,20,:])"
   ],
   "metadata": {
    "collapsed": false,
    "ExecuteTime": {
     "end_time": "2023-10-13T07:11:15.482657Z",
     "start_time": "2023-10-13T07:11:15.462962Z"
    }
   }
  },
  {
   "cell_type": "code",
   "execution_count": 8,
   "outputs": [
    {
     "name": "stdout",
     "output_type": "stream",
     "text": [
      "[INFO] Moving in the y direction\n",
      "[INFO] Acceptable area change for cross-section is 3\n"
     ]
    }
   ],
   "source": [
    "#array to save segmentation\n",
    "segmentation_y = np.zeros_like(crop_scan)\n",
    "print(f\"[INFO] Moving in the y direction\")\n",
    "\n",
    "segmentation_y[crop_size,crop_size,crop_size] = 1\n",
    "#filling center of segmentation with 1 (meaning true)\n",
    "print(f\"[INFO] Acceptable area change for cross-section is {area_percent}\") #150%"
   ],
   "metadata": {
    "collapsed": false,
    "ExecuteTime": {
     "end_time": "2023-10-13T07:11:15.483004Z",
     "start_time": "2023-10-13T07:11:15.470639Z"
    }
   }
  },
  {
   "cell_type": "code",
   "execution_count": 9,
   "outputs": [],
   "source": [
    "#pull out the initial array fo r a given z\n",
    "arr1_og = crop_scan[:, 20, :]\n",
    "\n",
    "arr1_blurred = cv2.GaussianBlur(arr1_og, (3,3), 0)\n",
    "#calculate scale value to scale to uint8 scale\n",
    "dat = np.array(arr1_blurred, dtype = np.uint8)\n",
    "\n",
    "if not suppress_plots:\n",
    "    plt.figure(figsize=(10,5))\n",
    "    plt.subplot(121)\n",
    "    plt.imshow(arr1_og)\n",
    "    plt.colorbar()\n",
    "    plt.subplot(122)\n",
    "    plt.imshow(dat)\n",
    "    plt.colorbar()"
   ],
   "metadata": {
    "collapsed": false,
    "ExecuteTime": {
     "end_time": "2023-10-13T07:11:15.483047Z",
     "start_time": "2023-10-13T07:11:15.475949Z"
    }
   }
  },
  {
   "cell_type": "code",
   "execution_count": 10,
   "outputs": [],
   "source": [
    "#blur to remove noise\n",
    "arr1_binary_all = cv2.adaptiveThreshold(dat, 255, cv2.ADAPTIVE_THRESH_GAUSSIAN_C, cv2.THRESH_BINARY, 7, 0)\n",
    "centerPix = dat[crop_size,crop_size]\n",
    "th = (np.percentile(dat.flatten(),95) - centerPix)/3 + centerPix\n",
    "_, arr1_binary_thresh = cv2.threshold(dat, th, 255, cv2.THRESH_BINARY)\n",
    "\n",
    "if not suppress_plots:\n",
    "    plt.figure(figsize=(10,5))\n",
    "    plt.subplot(121)\n",
    "    plt.imshow(arr1_binary_thresh)\n",
    "    plt.colorbar()\n",
    "    plt.subplot(122)\n",
    "    plt.imshow(arr1_binary_all)\n",
    "    plt.colorbar()"
   ],
   "metadata": {
    "collapsed": false,
    "ExecuteTime": {
     "end_time": "2023-10-13T07:11:15.489767Z",
     "start_time": "2023-10-13T07:11:15.483897Z"
    }
   }
  },
  {
   "cell_type": "code",
   "execution_count": 11,
   "outputs": [],
   "source": [
    "arr1_binary_all = arr1_binary_all | arr1_binary_thresh\n",
    "\n",
    "init_guess = np.zeros_like(arr1_binary_all)\n",
    "init_guess[17:23,17:23] = 1\n",
    "\n",
    "arr1_binary = utils.remove_background(arr1_binary_all, init_guess)\n",
    "arr1_binary = arr1_binary.astype(np.uint8)\n",
    "\n",
    "if not suppress_plots:\n",
    "    plt.imshow(arr1_binary)\n",
    "    plt.axis('off')"
   ],
   "metadata": {
    "collapsed": false,
    "ExecuteTime": {
     "end_time": "2023-10-13T07:11:15.499842Z",
     "start_time": "2023-10-13T07:11:15.491976Z"
    }
   }
  },
  {
   "cell_type": "code",
   "execution_count": 12,
   "outputs": [],
   "source": [
    "arr1 = utils.hull_and_kmeans(arr1_binary)\n",
    "\n",
    "if arr1[crop_size, crop_size] > 200:\n",
    "    arr1[crop_size, crop_size] = 14\n",
    "\n",
    "arr1[arr1 == 255] = 200\n",
    "\n",
    "if not suppress_plots:\n",
    "    plt.imshow(arr1)\n",
    "    plt.axis('off')"
   ],
   "metadata": {
    "collapsed": false,
    "ExecuteTime": {
     "end_time": "2023-10-13T07:11:15.583490Z",
     "start_time": "2023-10-13T07:11:15.501999Z"
    }
   }
  },
  {
   "cell_type": "code",
   "execution_count": 13,
   "outputs": [],
   "source": [
    "#flood fill from teh 2D centroid\n",
    "arr1_flooded = flood_fill(arr1, (crop_size, crop_size), 1, connectivity = 1, tolerance = upper_limit - np.ceil(arr1[crop_size, crop_size]))\n",
    "arr1_flooded = arr1_flooded == 1\n",
    "\n",
    "if not suppress_plots:\n",
    "    plt.imshow(arr1_flooded)\n",
    "    plt.colorbar()"
   ],
   "metadata": {
    "collapsed": false,
    "ExecuteTime": {
     "end_time": "2023-10-13T07:11:15.591763Z",
     "start_time": "2023-10-13T07:11:15.586828Z"
    }
   }
  },
  {
   "cell_type": "code",
   "execution_count": 14,
   "outputs": [],
   "source": [
    "arr1_old = arr1_flooded.copy();\n",
    "tmp = np.zeros((crop,crop));\n",
    "for i in range(arr1_flooded.shape[0]):\n",
    "    for j in range(arr1_flooded.shape[1]):\n",
    "        if arr1_old[i,j] == True:\n",
    "            if i > 0 and arr1[i-1,j] == 254 and dat[i-1,j] < 130:\n",
    "                tmp[i-1,j] = tmp[i-1,j] + 1;\n",
    "            if j > 0 and arr1[i,j-1] == 254 and dat[i,j-1] < 130:\n",
    "                tmp[i,j-1] = tmp[i,j-1] + 1;\n",
    "            if i < arr1_flooded.shape[0]-1 and arr1[i+1,j] == 254 and dat[i+1,j] < 130:\n",
    "                tmp[i+1,j] = tmp[i+1,j] + 1;\n",
    "            if j < arr1_flooded.shape[1]-1 and arr1[i,j+1] == 254 and dat[i,j+1] < 130:\n",
    "                tmp[i,j+1] = tmp[i,j+1] + 1;\n",
    "            if i > 0 and j > 0 and arr1[i-1,j-1] == 254 and dat[i-1,j-1] < 130:\n",
    "                tmp[i-1,j-1] = tmp[i-1,j-1] + 1;\n",
    "            if i > 0 and j < arr1_flooded.shape[1]-1 and arr1[i-1,j+1] == 254 and dat[i-1,j+1] < 130:\n",
    "                tmp[i-1,j+1] = tmp[i-1,j+1] + 1;\n",
    "            if i < arr1_flooded.shape[0]-1 and j > 0 and arr1[i+1,j-1] == 254 and dat[i+1,j-1] < 130:\n",
    "                tmp[i+1,j-1] = tmp[i+1,j-1] + 1;\n",
    "            if  i < arr1_flooded.shape[0]-1 and j < arr1_flooded.shape[1]-1 and arr1[i+1,j+1] == 254 and dat[i+1,j+1] < 130:\n",
    "                tmp[i+1,j+1] = tmp[i+1,j+1] + 1;\n",
    "arr1_flooded = arr1_flooded | (tmp > 3);\n",
    "\n",
    "if not suppress_plots:\n",
    "    plt.imshow(arr1_flooded)\n",
    "    plt.colorbar()"
   ],
   "metadata": {
    "collapsed": false,
    "ExecuteTime": {
     "end_time": "2023-10-13T07:11:15.603896Z",
     "start_time": "2023-10-13T07:11:15.602001Z"
    }
   }
  },
  {
   "cell_type": "code",
   "execution_count": 15,
   "outputs": [],
   "source": [
    "arr3 = arr1_binary\n",
    "arr3[arr1_flooded] = 254\n",
    "\n",
    "if not suppress_plots:\n",
    "    plt.imshow(arr3)\n",
    "    plt.colorbar()"
   ],
   "metadata": {
    "collapsed": false,
    "ExecuteTime": {
     "end_time": "2023-10-13T07:11:15.608998Z",
     "start_time": "2023-10-13T07:11:15.605459Z"
    }
   }
  },
  {
   "cell_type": "code",
   "execution_count": 16,
   "outputs": [],
   "source": [
    "arr1[arr1_flooded] = 255\n",
    "\n",
    "if not suppress_plots:\n",
    "    plt.imshow(arr1)\n",
    "    plt.axis('off')"
   ],
   "metadata": {
    "collapsed": false,
    "ExecuteTime": {
     "end_time": "2023-10-13T07:11:15.613850Z",
     "start_time": "2023-10-13T07:11:15.609155Z"
    }
   }
  },
  {
   "cell_type": "code",
   "execution_count": 17,
   "outputs": [
    {
     "name": "stdout",
     "output_type": "stream",
     "text": [
      "[INFO] Initialization area is 16\n",
      "Calculated area for next loop is 0\n"
     ]
    }
   ],
   "source": [
    "arr1_dilated = cv2.dilate(np.asarray(arr1_flooded*255, dtype=\"uint8\"), np.ones((2,2)))\n",
    "print(f\"[INFO] Initialization area is {sum(sum(arr1_flooded))}\")\n",
    "out, flag = utils.loop(arr3, sum(sum(arr1_flooded)), arr1_dilated == 255, arr1_flooded)\n",
    "arr1_flooded = out | arr1_flooded\n",
    "\n",
    "if not suppress_plots:\n",
    "    plt.imshow(arr1_flooded)\n",
    "    plt.colorbar()"
   ],
   "metadata": {
    "collapsed": false,
    "ExecuteTime": {
     "end_time": "2023-10-13T07:11:15.624087Z",
     "start_time": "2023-10-13T07:11:15.611407Z"
    }
   }
  },
  {
   "cell_type": "code",
   "execution_count": 18,
   "outputs": [],
   "source": [
    "#calculate area, store area as baseline for later comparison\n",
    "area_at_centroid = np.sum(np.sum(arr1_flooded))\n",
    "major_axis_a = np.sum(arr1_flooded,axis = 0)[crop_size]\n",
    "major_axis_b = np.sum(arr1_flooded,axis=1)[crop_size]\n",
    "ellipse_area = 3.1415926 * major_axis_a * major_axis_b\n",
    "\n",
    "segmentation_y[:, crop_size, :] = arr1_flooded"
   ],
   "metadata": {
    "collapsed": false,
    "ExecuteTime": {
     "end_time": "2023-10-13T07:11:15.645717Z",
     "start_time": "2023-10-13T07:11:15.624834Z"
    }
   }
  },
  {
   "cell_type": "code",
   "execution_count": 19,
   "outputs": [
    {
     "name": "stdout",
     "output_type": "stream",
     "text": [
      "Calculated area for next loop is 17\n",
      "[FORWARD] Calculated area for next forwards step is 17\n",
      "Previous area was 16\n",
      "Calculated area for next loop is 18\n",
      "[FORWARD] Calculated area for next forwards step is 18\n",
      "Previous area was 17\n",
      "Calculated area for next loop is 14\n",
      "[FORWARD] Calculated area for next forwards step is 14\n",
      "Previous area was 18\n",
      "Calculated area for next loop is 18\n",
      "[FORWARD] Calculated area for next forwards step is 18\n",
      "Previous area was 14\n",
      "Calculated area for next loop is 18\n",
      "[FORWARD] Calculated area for next forwards step is 18\n",
      "Previous area was 18\n",
      "Calculated area for next loop is 0\n",
      "Original area size is 0\n",
      "Calculated area for next loop is 22\n",
      "Calculated area for next loop is 4\n",
      "Filled in the gaps with area 26 and allowable change is 54 at 26\n",
      "[FORWARD] Calculated area for next forwards step is 26\n",
      "Previous area was 18\n",
      "Calculated area for next loop is 0\n",
      "Original area size is 0\n",
      "Calculated area for next loop is 24\n",
      "Calculated area for next loop is 4\n",
      "Filled in the gaps with area 28 and allowable change is 78 at 27\n",
      "[FORWARD] Calculated area for next forwards step is 28\n",
      "Previous area was 26\n",
      "Calculated area for next loop is 0\n",
      "Original area size is 0\n",
      "Calculated area for next loop is 22\n",
      "Calculated area for next loop is 3\n",
      "Filled in the gaps with area 26 and allowable change is 84 at 28\n",
      "[FORWARD] Calculated area for next forwards step is 26\n",
      "Previous area was 28\n",
      "Calculated area for next loop is 0\n",
      "Original area size is 0\n",
      "Calculated area for next loop is 17\n",
      "Calculated area for next loop is 3\n",
      "Filled in the gaps with area 20 and allowable change is 78 at 29\n",
      "[FORWARD] Calculated area for next forwards step is 20\n",
      "Previous area was 26\n",
      "Calculated area for next loop is 0\n",
      "Original area size is 0\n",
      "Calculated area for next loop is 14\n",
      "Box became too small\n",
      "Calculated area for next loop is 0\n",
      "Filled in the gaps with area 16 and allowable change is 60 at 30\n",
      "[FORWARD] Calculated area for next forwards step is 16\n",
      "Previous area was 20\n",
      "Calculated area for next loop is 0\n",
      "Original area size is 0\n",
      "Calculated area for next loop is 12\n",
      "Calculated area for next loop is 0\n",
      "Filled in the gaps with area 13 and allowable change is 48 at 31\n",
      "[FORWARD] Calculated area for next forwards step is 13\n",
      "Previous area was 16\n",
      "Calculated area for next loop is 0\n",
      "Original area size is 0\n",
      "Calculated area for next loop is 12\n",
      "Calculated area for next loop is 0\n",
      "Filled in the gaps with area 13 and allowable change is 39 at 32\n",
      "[FORWARD] Calculated area for next forwards step is 13\n",
      "Previous area was 13\n",
      "Calculated area for next loop is 0\n",
      "Original area size is 0\n",
      "Calculated area for next loop is 7\n",
      "Calculated area for next loop is 0\n",
      "Filled in the gaps with area 8 and allowable change is 39 at 33\n",
      "[FORWARD] Calculated area for next forwards step is 8\n",
      "Previous area was 13\n",
      "Calculated area for next loop is 0\n",
      "Original area size is 0\n",
      "Calculated area for next loop is 6\n",
      "Calculated area for next loop is 2\n",
      "Filled in the gaps with area 9 and allowable change is 24 at 34\n",
      "[FORWARD] Calculated area for next forwards step is 9\n",
      "Previous area was 8\n",
      "Calculated area for next loop is 0\n",
      "Original area size is 0\n",
      "Calculated area for next loop is 6\n",
      "Box became too small\n",
      "Calculated area for next loop is 0\n",
      "Filled in the gaps with area 6 and allowable change is 27 at 35\n",
      "[FORWARD] Calculated area for next forwards step is 6\n",
      "Previous area was 9\n",
      "Calculated area for next loop is 0\n",
      "Original area size is 0\n",
      "Calculated area for next loop is 9\n",
      "Box became too small\n",
      "Calculated area for next loop is 0\n",
      "Filled in the gaps with area 9 and allowable change is 18 at 36\n",
      "[FORWARD] Calculated area for next forwards step is 9\n",
      "Previous area was 6\n",
      "Calculated area for next loop is 0\n",
      "Original area size is 0\n",
      "Calculated area for next loop is 8\n",
      "Calculated area for next loop is 0\n",
      "Filled in the gaps with area 8 and allowable change is 27 at 37\n",
      "[FORWARD] Calculated area for next forwards step is 8\n",
      "Previous area was 9\n",
      "Calculated area for next loop is 0\n",
      "Original area size is 0\n",
      "Calculated area for next loop is 12\n",
      "Calculated area for next loop is 2\n",
      "Filled in the gaps with area 15 and allowable change is 24 at 38\n",
      "[FORWARD] Calculated area for next forwards step is 15\n",
      "Previous area was 8\n",
      "Calculated area for next loop is 0\n",
      "Original area size is 0\n",
      "Calculated area for next loop is 10\n",
      "Calculated area for next loop is 2\n",
      "Filled in the gaps with area 13 and allowable change is 45 at 39\n",
      "[FORWARD] Calculated area for next forwards step is 13\n",
      "Previous area was 15\n",
      "Calculated area for next loop is 0\n",
      "Original area size is 0\n",
      "Calculated area for next loop is 8\n",
      "Calculated area for next loop is 2\n",
      "Filled in the gaps with area 11 and allowable change is 39 at 40\n",
      "[FORWARD] Calculated area for next forwards step is 11\n",
      "Previous area was 13\n",
      "[FORWARD] Stopping forward movement at 40 and area is 11\n"
     ]
    }
   ],
   "source": [
    "utils.press_forward_y(arr1_flooded, crop_size, area_at_centroid,crop_scan,segmentation_y)"
   ],
   "metadata": {
    "collapsed": false,
    "ExecuteTime": {
     "end_time": "2023-10-13T07:11:17.513150Z",
     "start_time": "2023-10-13T07:11:15.635209Z"
    }
   }
  },
  {
   "cell_type": "code",
   "execution_count": 20,
   "outputs": [
    {
     "name": "stdout",
     "output_type": "stream",
     "text": [
      "Calculated area for next loop is 18\n",
      "[BACK] Calculated area for next backwards step is 18\n",
      "Previous area was 16\n",
      "Calculated area for next loop is 21\n",
      "[BACK] Calculated area for next backwards step is 21\n",
      "Previous area was 18\n",
      "Calculated area for next loop is 26\n",
      "[BACK] Calculated area for next backwards step is 26\n",
      "Previous area was 21\n",
      "Calculated area for next loop is 23\n",
      "Original area size is 23\n",
      "Calculated area for next loop is 23\n",
      "Calculated area for next loop is 11\n",
      "Filled in the gaps with area 34 and allowable change is 78 at 16\n",
      "[BACK] Calculated area for next backwards step is 34\n",
      "Previous area was 26\n",
      "Calculated area for next loop is 0\n",
      "Original area size is 0\n",
      "Calculated area for next loop is 26\n",
      "Calculated area for next loop is 10\n",
      "Filled in the gaps with area 36 and allowable change is 102 at 15\n",
      "[BACK] Calculated area for next backwards step is 36\n",
      "Previous area was 34\n",
      "Calculated area for next loop is 0\n",
      "Original area size is 0\n",
      "Calculated area for next loop is 25\n",
      "Calculated area for next loop is 7\n",
      "Filled in the gaps with area 33 and allowable change is 108 at 14\n",
      "[BACK] Calculated area for next backwards step is 33\n",
      "Previous area was 36\n",
      "Calculated area for next loop is 0\n",
      "Original area size is 0\n",
      "Calculated area for next loop is 24\n",
      "Calculated area for next loop is 9\n",
      "Filled in the gaps with area 34 and allowable change is 99 at 13\n",
      "[BACK] Calculated area for next backwards step is 34\n",
      "Previous area was 33\n",
      "Calculated area for next loop is 0\n",
      "Original area size is 0\n",
      "Calculated area for next loop is 24\n",
      "Calculated area for next loop is 9\n",
      "Filled in the gaps with area 34 and allowable change is 102 at 12\n",
      "[BACK] Calculated area for next backwards step is 34\n",
      "Previous area was 34\n",
      "Calculated area for next loop is 0\n",
      "Original area size is 0\n",
      "Calculated area for next loop is 29\n",
      "Calculated area for next loop is 8\n",
      "Filled in the gaps with area 40 and allowable change is 102 at 11\n",
      "[BACK] Calculated area for next backwards step is 40\n",
      "Previous area was 34\n",
      "Calculated area for next loop is 0\n",
      "Original area size is 0\n",
      "Calculated area for next loop is 22\n",
      "Calculated area for next loop is 5\n",
      "Filled in the gaps with area 28 and allowable change is 120 at 10\n",
      "[BACK] Calculated area for next backwards step is 28\n",
      "Previous area was 40\n",
      "Calculated area for next loop is 0\n",
      "Original area size is 0\n",
      "Calculated area for next loop is 10\n",
      "Calculated area for next loop is 6\n",
      "Filled in the gaps with area 17 and allowable change is 84 at 9\n",
      "[BACK] Calculated area for next backwards step is 17\n",
      "Previous area was 28\n",
      "Calculated area for next loop is 0\n",
      "Original area size is 0\n",
      "Calculated area for next loop is 0\n",
      "Calculated area for next loop is 0\n",
      "Filled in the gaps with area 0 and allowable change is 51 at 8\n",
      "[BACK] Calculated area for next backwards step is 0\n",
      "Previous area was 17\n",
      "[BACK] Stopping backward movement at 9 and area is 0\n"
     ]
    },
    {
     "name": "stderr",
     "output_type": "stream",
     "text": [
      "/Users/michael/anaconda3/envs/tn-seg/lib/python3.10/site-packages/numpy/core/fromnumeric.py:3432: RuntimeWarning: Mean of empty slice.\n",
      "  return _methods._mean(a, axis=axis, dtype=dtype,\n",
      "/Users/michael/anaconda3/envs/tn-seg/lib/python3.10/site-packages/numpy/core/_methods.py:190: RuntimeWarning: invalid value encountered in double_scalars\n",
      "  ret = ret.dtype.type(ret / rcount)\n",
      "/Users/michael/anaconda3/envs/tn-seg/lib/python3.10/site-packages/numpy/core/_methods.py:265: RuntimeWarning: Degrees of freedom <= 0 for slice\n",
      "  ret = _var(a, axis=axis, dtype=dtype, out=out, ddof=ddof,\n",
      "/Users/michael/anaconda3/envs/tn-seg/lib/python3.10/site-packages/numpy/core/_methods.py:223: RuntimeWarning: invalid value encountered in divide\n",
      "  arrmean = um.true_divide(arrmean, div, out=arrmean, casting='unsafe',\n",
      "/Users/michael/anaconda3/envs/tn-seg/lib/python3.10/site-packages/numpy/core/_methods.py:257: RuntimeWarning: invalid value encountered in double_scalars\n",
      "  ret = ret.dtype.type(ret / rcount)\n"
     ]
    }
   ],
   "source": [
    "utils.press_backward_y(arr1_flooded, crop_size, area_at_centroid,crop_scan,segmentation_y)"
   ],
   "metadata": {
    "collapsed": false,
    "ExecuteTime": {
     "end_time": "2023-10-13T07:11:18.603914Z",
     "start_time": "2023-10-13T07:11:17.514218Z"
    }
   }
  },
  {
   "cell_type": "code",
   "execution_count": 21,
   "outputs": [],
   "source": [
    "if not suppress_plots:\n",
    "    fig = plt.figure(figsize=(10,10))\n",
    "    _, axes = fig.subplots(2,2)\n",
    "    s0 = crop_size\n",
    "    c0 = crop_size\n",
    "    a0 = crop_size\n",
    "\n",
    "\n",
    "    coord = np.array([s0,c0,a0])\n",
    "    gridlinestyles = 'dashed'\n",
    "\n",
    "    plt.subplot(221)\n",
    "    im_s = plt.imshow(crop_scan[:,:,s0], cmap = plt.cm.gray)#, vmin=lb, vmax=ub)\n",
    "    seg_s = plt.imshow(segmentation_y[:,:,s0], alpha = 0.5,vmin = 0, vmax = 1)\n",
    "    al_s = plt.hlines(a0,xmin=0,xmax=crop_scan.shape[1]-1,linestyles=gridlinestyles)\n",
    "    cl_s = plt.vlines(c0,ymin=0,ymax=crop_scan.shape[0]-1,linestyles=gridlinestyles)\n",
    "    plt.subplot(222)\n",
    "    im_c = plt.imshow(crop_scan[:,c0,:], cmap = plt.cm.gray)#, vmin=lb, vmax=ub)\n",
    "    seg_c = plt.imshow(segmentation_y[:,c0,:], alpha = 0.5,vmin = 0, vmax = 1)\n",
    "    al_c = plt.hlines(a0,xmin=0,xmax=crop_scan.shape[2]-1,linestyles=gridlinestyles)\n",
    "    sl_c = plt.vlines(s0,ymin=0,ymax=crop_scan.shape[0]-1,linestyles=gridlinestyles)\n",
    "    plt.subplot(223)\n",
    "    im_a = plt.imshow(crop_scan[a0,:,:], cmap = plt.cm.gray)#, vmin=lb, vmax=ub)\n",
    "    seg_a = plt.imshow(segmentation_y[a0,:,:], alpha = 0.5,vmin = 0, vmax = 1)\n",
    "    cl_a = plt.hlines(c0,xmin=0,xmax=crop_scan.shape[2]-1,linestyles=gridlinestyles)\n",
    "    sl_a = plt.vlines(s0,ymin=0,ymax=crop_scan.shape[1]-1,linestyles=gridlinestyles)"
   ],
   "metadata": {
    "collapsed": false,
    "ExecuteTime": {
     "end_time": "2023-10-13T07:11:18.609373Z",
     "start_time": "2023-10-13T07:11:18.607856Z"
    }
   }
  },
  {
   "cell_type": "code",
   "execution_count": 22,
   "outputs": [],
   "source": [
    "segmentation = np.array(np.zeros_like(full_scan), dtype=np.uint8)\n",
    "\n",
    "segmentation[centroid[0]-crop_size:centroid[0]+crop_size+1, centroid[1]-crop_size:centroid[1]+crop_size+1, centroid[2]-crop_size:centroid[2]+ crop_size+1] = np.array(segmentation_y.copy(),dtype=np.uint8)\n"
   ],
   "metadata": {
    "collapsed": false,
    "ExecuteTime": {
     "end_time": "2023-10-13T07:11:18.650562Z",
     "start_time": "2023-10-13T07:11:18.611016Z"
    }
   }
  },
  {
   "cell_type": "code",
   "execution_count": 23,
   "outputs": [],
   "source": [
    "if not suppress_plots:\n",
    "    fig = plt.figure(figsize=(10,10))\n",
    "    _, axes = fig.subplots(2,2)\n",
    "    s0 = centroid[2]\n",
    "    c0 = centroid[1]\n",
    "    a0 = centroid[0]\n",
    "\n",
    "\n",
    "    coord = np.array([s0,c0,a0])\n",
    "    gridlinestyles = 'dashed'\n",
    "\n",
    "    plt.subplot(221)\n",
    "    im_s = plt.imshow(full_scan[:,:,s0], cmap = plt.cm.gray)#, vmin=lb, vmax=ub)\n",
    "    seg_s = plt.imshow(segmentation[:,:,s0], alpha = 0.5,vmin = 0, vmax = 1)\n",
    "    al_s = plt.hlines(a0,xmin=0,xmax=full_scan.shape[1]-1,linestyles=gridlinestyles)\n",
    "    cl_s = plt.vlines(c0,ymin=0,ymax=full_scan.shape[0]-1,linestyles=gridlinestyles)\n",
    "    plt.subplot(222)\n",
    "    im_c = plt.imshow(full_scan[:,c0,:], cmap = plt.cm.gray)#, vmin=lb, vmax=ub)\n",
    "    seg_c = plt.imshow(segmentation[:,c0,:], alpha = 0.5,vmin = 0, vmax = 1)\n",
    "    al_c = plt.hlines(a0,xmin=0,xmax=full_scan.shape[2]-1,linestyles=gridlinestyles)\n",
    "    sl_c = plt.vlines(s0,ymin=0,ymax=full_scan.shape[0]-1,linestyles=gridlinestyles)\n",
    "    plt.subplot(223)\n",
    "    im_a = plt.imshow(full_scan[a0,:,:], cmap = plt.cm.gray)#, vmin=lb, vmax=ub)\n",
    "    seg_a = plt.imshow(segmentation[a0,:,:], alpha = 0.5,vmin = 0, vmax = 1)\n",
    "    cl_a = plt.hlines(c0,xmin=0,xmax=full_scan.shape[2]-1,linestyles=gridlinestyles)\n",
    "    sl_a = plt.vlines(s0,ymin=0,ymax=full_scan.shape[1]-1,linestyles=gridlinestyles)"
   ],
   "metadata": {
    "collapsed": false,
    "ExecuteTime": {
     "end_time": "2023-10-13T07:11:18.656527Z",
     "start_time": "2023-10-13T07:11:18.650741Z"
    }
   }
  },
  {
   "cell_type": "code",
   "execution_count": 24,
   "outputs": [
    {
     "name": "stderr",
     "output_type": "stream",
     "text": [
      "/var/folders/kg/kdvbybgj03g64srr848x9b500000gn/T/ipykernel_36552/3356138330.py:2: UserWarning: data/segmentation.tiff is a low contrast image\n",
      "  io.imsave('data/segmentation.tiff', segmentation.transpose([2,0,1]))\n"
     ]
    }
   ],
   "source": [
    "#save the segmentation as tiff\n",
    "io.imsave('data/segmentation.tiff', segmentation.transpose([2,0,1]))"
   ],
   "metadata": {
    "collapsed": false,
    "ExecuteTime": {
     "end_time": "2023-10-13T07:11:18.736240Z",
     "start_time": "2023-10-13T07:11:18.650946Z"
    }
   }
  }
 ],
 "metadata": {
  "kernelspec": {
   "display_name": "Python 3",
   "language": "python",
   "name": "python3"
  },
  "language_info": {
   "codemirror_mode": {
    "name": "ipython",
    "version": 2
   },
   "file_extension": ".py",
   "mimetype": "text/x-python",
   "name": "python",
   "nbconvert_exporter": "python",
   "pygments_lexer": "ipython2",
   "version": "2.7.6"
  }
 },
 "nbformat": 4,
 "nbformat_minor": 0
}
